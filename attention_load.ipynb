{
 "cells": [
  {
   "cell_type": "markdown",
   "metadata": {},
   "source": [
    "# Attention 모델 불러오기"
   ]
  },
  {
   "cell_type": "markdown",
   "metadata": {},
   "source": [
    "# 학습 모델을 사용하여 대답 예측하기"
   ]
  },
  {
   "cell_type": "code",
   "execution_count": 2,
   "metadata": {},
   "outputs": [],
   "source": [
    "import tensorflow as tf\n",
    "tf.enable_eager_execution()  # tf v1에 필요, 만약 v2라면 주석처리 합니다.\n",
    "\n",
    "from tensorflow.keras.models import model_from_json\n",
    "from tensorflow.keras.models import load_model\n",
    "\n",
    "import re\n",
    "import numpy as np\n",
    "\n",
    "import pickle"
   ]
  },
  {
   "cell_type": "code",
   "execution_count": 3,
   "metadata": {},
   "outputs": [],
   "source": [
    "import matplotlib.pyplot as plt\n",
    "import matplotlib.ticker as ticker"
   ]
  },
  {
   "cell_type": "markdown",
   "metadata": {},
   "source": [
    "### 단어사전과 학습시킨 모델 불러오기\n",
    "- 단어사전: 학습에서 사용한 단어사전을 불러옵니다.\n",
    "\n",
    "- 학습시킨 인코더모델과 디코더모델을 불러옵니다."
   ]
  },
  {
   "cell_type": "code",
   "execution_count": 101,
   "metadata": {},
   "outputs": [],
   "source": [
    "# 단어 사전 불러오기\n",
    "\n",
    "with open('attention_word_to_index.pickle', 'rb') as handle:\n",
    "    word_to_index = pickle.load(handle)\n",
    "with open('attention_index_to_word.pickle', 'rb') as handle:\n",
    "    index_to_word = pickle.load(handle)"
   ]
  },
  {
   "cell_type": "code",
   "execution_count": 102,
   "metadata": {},
   "outputs": [],
   "source": [
    "# 학습한 모델 불러오기 (인코더, 디코더)\n",
    "\n",
    "def load_model(model_filename, model_weights_filename):\n",
    "    with open(model_filename, 'r', encoding='utf8') as f:\n",
    "        model = model_from_json(f.read())\n",
    "    model.load_weights(model_weights_filename)\n",
    "    return model\n",
    "\n",
    "encoder_model = load_model('attention_encoder_model.json', 'attention_encoder_model_weights.h5')\n",
    "decoder_model = load_model('attention_decoder_model.json', 'attention_decoder_model_weights.h5')"
   ]
  },
  {
   "cell_type": "markdown",
   "metadata": {},
   "source": [
    "### 학습시 사용한 파라미터와 모델 예측에 사용할 함수 정의"
   ]
  },
  {
   "cell_type": "code",
   "execution_count": 6,
   "metadata": {},
   "outputs": [],
   "source": [
    "# 파라미터 \n",
    "\n",
    "PAD = \"<PADDING>\"   # 패딩\n",
    "STA = \"<START>\"     # 시작\n",
    "END = \"<END>\"       # 끝\n",
    "OOV = \"<OOV>\"       # 없는 단어(Out of Vocabulary)\n",
    "\n",
    "# 태그 인덱스\n",
    "PAD_INDEX = 0\n",
    "STA_INDEX = 1\n",
    "END_INDEX = 2\n",
    "OOV_INDEX = 3\n",
    "\n",
    "# 데이터 타입\n",
    "ENCODER_INPUT  = 0\n",
    "DECODER_INPUT  = 1\n",
    "DECODER_TARGET = 2\n",
    "\n",
    "# 한 문장에서 단어 시퀀스의 최대 개수\n",
    "max_sequences = 20\n",
    "\n",
    "\n",
    "# 임베딩 벡터 차원\n",
    "embedding_dim = 200"
   ]
  },
  {
   "cell_type": "code",
   "execution_count": 7,
   "metadata": {},
   "outputs": [],
   "source": [
    "# 형태소 분석기 Mecab 사용\n",
    "\n",
    "import MeCab\n",
    "\n",
    "mecab = MeCab.Tagger()\n",
    "def mecab_morphs(text):\n",
    "    morphs = []\n",
    "    # 우리가 원하는 TOKEN\\tPOS의 형태를 추출하는 정규표현식.\n",
    "    pattern = re.compile(\".*\\t[A-Z]+\") \n",
    "    # 패턴에 맞는 문자열을 추출하여 konlpy의 mecab 결과와 같아지도록 수정.\n",
    "    temp = [tuple(pattern.match(token).group(0).split(\"\\t\")) for token in mecab.parse(text).splitlines()[:-1]]\n",
    "    # 추출한 token중에 문자열만 선택.\n",
    "    for token in temp:\n",
    "        morphs.append(token[0])\n",
    "    return morphs"
   ]
  },
  {
   "cell_type": "code",
   "execution_count": 8,
   "metadata": {},
   "outputs": [],
   "source": [
    "# 정규표현식으로 특수기호 제거하고 토근화하는 함수 정의\n",
    "\n",
    "def pos_tag_korea(sentences):\n",
    "    # KoNLPy 형태소분석기 설정\n",
    "    # 문장 품사 변수 초기화\n",
    "    sentences_pos = []\n",
    "    # 모든 문장 반복\n",
    "    for sentence in sentences:\n",
    "        # 특수기호 제거\n",
    "        RE_FILTER = re.compile(\"[!#$%&()*+,-/:;<=>@[\\\\]^_`{|}~]\")\n",
    "        sentence = re.sub(RE_FILTER, \"\", sentence)     \n",
    "        # 배열인 형태소분석의 출력을 띄어쓰기로 구분하여 붙임\n",
    "        sentence = \" \".join(mecab_morphs(sentence))\n",
    "        sentences_pos.append(sentence)\n",
    "    return sentences_pos"
   ]
  },
  {
   "cell_type": "code",
   "execution_count": 79,
   "metadata": {},
   "outputs": [],
   "source": [
    "# 모델을 사용하여 대답 문장을 예측하는 함수\n",
    "\n",
    "def generate_text(input_seq):\n",
    "    ## 입력을 인코더에 넣어 마지막 상태 구함\n",
    "    # states = encoder_model.predict(input_seq)\n",
    "\n",
    "    # 입력을 인코더에 넣어 마지막 상태 구함\n",
    "    H, h, c = encoder_model.predict(input_seq)\n",
    "    states=[h,c]\n",
    "    # 목표 시퀀스 초기화\n",
    "    target_seq = np.zeros((1, 1))\n",
    "    \n",
    "    # 목표 시퀀스의 첫 번째에 <START> 태그 추가\n",
    "    target_seq[0, 0] = STA_INDEX\n",
    "    \n",
    "    # 인덱스 초기화\n",
    "    indexs = []\n",
    "    \n",
    "    # 디코더 타임 스텝 반복\n",
    "    while 1:\n",
    "        # 디코더로 현재 타임 스텝 출력 구함\n",
    "        # 처음에는 인코더 상태를, 다음부터 이전 디코더 상태로 초기화\n",
    "        decoder_outputs, h, c, _ = decoder_model.predict(\n",
    "                                                [target_seq] + [H,h,c])\n",
    "\n",
    "        # 결과의 원핫인코딩 형식을 인덱스로 변환\n",
    "        index = np.argmax(decoder_outputs[0, 0, :])\n",
    "        indexs.append(index)\n",
    "        \n",
    "        # 종료 검사\n",
    "        if index == END_INDEX or len(indexs) >= max_sequences:\n",
    "            break\n",
    "\n",
    "        # 목표 시퀀스를 바로 이전의 출력으로 설정\n",
    "        target_seq = np.zeros((1, 1))\n",
    "        target_seq[0, 0] = index\n",
    "        \n",
    "        # 디코더의 이전 상태를 다음 디코더 예측에 사용\n",
    "        # states = [state_h, state_c]\n",
    "\n",
    "    # 인덱스를 문장으로 변환\n",
    "    sentence = convert_index_to_text(indexs, index_to_word)\n",
    "    \n",
    "    return sentence\n"
   ]
  },
  {
   "cell_type": "code",
   "execution_count": 10,
   "metadata": {},
   "outputs": [],
   "source": [
    "# 인덱스를 문장으로 변환\n",
    "def convert_index_to_text(indexs, vocabulary): \n",
    "    sentence = ''\n",
    "    # 모든 문장에 대해서 반복\n",
    "    for index in indexs:\n",
    "        if index == END_INDEX:\n",
    "            # 종료 인덱스면 중지\n",
    "            break;\n",
    "        if vocabulary.get(index) is not None:\n",
    "            # 사전에 있는 인덱스면 해당 단어를 추가\n",
    "            sentence += vocabulary[index]\n",
    "        else:\n",
    "            # 사전에 없는 인덱스면 OOV 단어를 추가\n",
    "            sentence.extend([vocabulary[OOV_INDEX]])\n",
    "\n",
    "        # 빈칸 추가\n",
    "        sentence += ' '\n",
    "\n",
    "    return sentence"
   ]
  },
  {
   "cell_type": "code",
   "execution_count": 11,
   "metadata": {},
   "outputs": [],
   "source": [
    "## 문장 속 형태소(단어)를 벡터로 변경하는 함수 작성\n",
    "def convert_text_to_index(sentences, vocabulary,type): \n",
    "    \n",
    "    sentences_index = []\n",
    "    \n",
    "    # 모든 문장에 대해서 반복\n",
    "    for sentence in sentences:\n",
    "        sentence_index = []\n",
    "\n",
    "        # 디코더 입력일 경우 맨 앞에 START 태그 추가\n",
    "        if type == DECODER_INPUT:\n",
    "            sentence_index.extend([vocabulary[STA]])\n",
    "        \n",
    "        # 문장의 단어들을 띄어쓰기로 분리\n",
    "        for word in sentence.split():\n",
    "            if vocabulary.get(word) is not None:\n",
    "                # 사전에 있는 단어면 해당 인덱스를 추가\n",
    "                sentence_index.extend([vocabulary[word]])\n",
    "            else:\n",
    "                # 사전에 없는 단어면 OOV 인덱스를 추가\n",
    "                sentence_index.extend([vocabulary[OOV]])\n",
    "\n",
    "        # 최대 길이 검사\n",
    "        if type == DECODER_TARGET:\n",
    "            # 디코더 목표일 경우 맨 뒤에 END 태그 추가\n",
    "            if len(sentence_index) >= max_sequences:\n",
    "                sentence_index = sentence_index[:max_sequences-1] + [vocabulary[END]]\n",
    "            else:\n",
    "                sentence_index += [vocabulary[END]]\n",
    "        else:\n",
    "            if len(sentence_index) > max_sequences:\n",
    "                sentence_index = sentence_index[:max_sequences]\n",
    "            \n",
    "        # 최대 길이에 없는 공간은 패딩 인덱스로 채움\n",
    "        sentence_index += (max_sequences - len(sentence_index)) * [vocabulary[PAD]]\n",
    "        \n",
    "        # 문장의 인덱스 배열을 추가\n",
    "        sentences_index.append(sentence_index)\n",
    "\n",
    "    return np.asarray(sentences_index)"
   ]
  },
  {
   "cell_type": "code",
   "execution_count": 12,
   "metadata": {},
   "outputs": [],
   "source": [
    "# 예측을 위한 입력 데이터 처리하기 \n",
    "# 한글을 형태소 분석 한 뒤, 벡터 배열로 변경하는 함수\n",
    "\n",
    "def make_predict_input(sentence):\n",
    "    sentences = []\n",
    "    sentences.append(sentence)\n",
    "    sentences = pos_tag_korea(sentences)\n",
    "    input_seq = convert_text_to_index(sentences, word_to_index,ENCODER_INPUT)\n",
    "    \n",
    "    return input_seq"
   ]
  },
  {
   "cell_type": "code",
   "execution_count": 28,
   "metadata": {},
   "outputs": [],
   "source": [
    "# 띄어쓰기를 붙이기\n",
    "# 임시로 해놓은거라 완벽하지 않습니다..\n",
    "\n",
    "josa_low = [' 은 ',' 는 ',' 을 ',' 를 ',' 이 ',' 가 ',' 에 ',' 랑 ',' 와 ',' 과 ',' 고 ',' 었 ',' 했 ',' 았 ',' 겠 ',' 요 ',' 어 ', ' 도 ',' 에게 ', ' 께 ',' 의 ',' 지 ',' 만 ',' 지만 ', ' 다니 ',' 할 ',' 날 ',' 땐 ',' 라도 ',' 건 ']\n",
    "josa_high = [' 에요 ',' 어요 ',' 네요 ',' 세요 ',' 아요 ',' 예요 ',' 으셔도 ',' 죠 ',' 으시 ',' 군요 ']\n",
    "end_josa=[' 다 ',' 내 ',' 야 ', ' 아 ', ' 봐 ',' 지 ']\n",
    "josa2=[' 거야 ',' 으면 ',' 하고 ']\n",
    "end = [' ? ']\n",
    "def removeSpacing(s):\n",
    "    josa = josa_low + josa_high + end\n",
    "    for i in range(len(josa)):\n",
    "        s = s.replace(josa[i],josa[i][1:])\n",
    "    if s[-3:] in end_josa:\n",
    "        s = s[:-3] + s[-2:]\n",
    "    for i in range(len(josa2)):\n",
    "        s = s.replace(josa2[i],josa2[i][1:])\n",
    "    return s"
   ]
  },
  {
   "cell_type": "markdown",
   "metadata": {},
   "source": [
    "### 대답 예측하기"
   ]
  },
  {
   "cell_type": "code",
   "execution_count": 110,
   "metadata": {},
   "outputs": [
    {
     "data": {
      "text/plain": [
       "'그 사람도 그럴 거예요 '"
      ]
     },
     "execution_count": 110,
     "metadata": {},
     "output_type": "execute_result"
    }
   ],
   "source": [
    "korean_sentence='가끔 궁금해'\n",
    "\n",
    "input_seq = make_predict_input(korean_sentence)\n",
    "answer = generate_text(input_seq)\n",
    "removeSpacing(answer)"
   ]
  },
  {
   "cell_type": "code",
   "execution_count": null,
   "metadata": {},
   "outputs": [],
   "source": []
  },
  {
   "cell_type": "markdown",
   "metadata": {},
   "source": [
    "# 참고1. Attention 가중치 시각화하기\n",
    "예측한 문장에 대해서 attention 가중치를 확인하고 싶다면 아래의 코드를 참고하세요.\n",
    "\n",
    "시각화 그래프에 한글을 사용하려면, 한글 글꼴을 다운받아야 합니다.\n",
    "\n",
    "(http://corazzon.github.io/matplotlib_font_setting 여기를 참고하여 다운받아줍니다.)"
   ]
  },
  {
   "cell_type": "code",
   "execution_count": 16,
   "metadata": {},
   "outputs": [],
   "source": [
    "import matplotlib as mpl\n",
    "import matplotlib.pyplot as plt\n",
    "import matplotlib.ticker as ticker\n",
    "import matplotlib.font_manager as fm\n",
    "font_path = 'C:/Windows/Fonts/NanumBarunGothic.ttf'\n",
    "fontprop = fm.FontProperties(fname=font_path, size=18) "
   ]
  },
  {
   "cell_type": "code",
   "execution_count": 17,
   "metadata": {},
   "outputs": [],
   "source": [
    "# 텍스트 생성\n",
    "def evaluate(input_sentence):\n",
    "    attention_plot = np.zeros((max_sequences, max_sequences))\n",
    "    \n",
    "    sentences = []\n",
    "    sentences.append(input_sentence)\n",
    "    sentences = pos_tag_korea(sentences)\n",
    "    input_sentence = sentences[0]\n",
    "    input_seq = convert_text_to_index(sentences, word_to_index,ENCODER_INPUT)\n",
    "\n",
    "    # 입력을 인코더에 넣어 마지막 상태 구함\n",
    "    H, h, c = encoder_model.predict(input_seq)\n",
    "    states=[h,c]\n",
    "    # 목표 시퀀스 초기화\n",
    "    target_seq = np.zeros((1, 1))\n",
    "    \n",
    "    # 목표 시퀀스의 첫 번째에 <START> 태그 추가\n",
    "    target_seq[0, 0] = STA_INDEX\n",
    "    \n",
    "    # 인덱스 초기화\n",
    "    indexs = []\n",
    "    \n",
    "    # 디코더 타임 스텝 반복\n",
    "    i = 0\n",
    "    while 1:\n",
    "        # 디코더로 현재 타임 스텝 출력 구함\n",
    "        # 처음에는 인코더 상태를, 다음부터 이전 디코더 상태로 초기화\n",
    "        decoder_outputs, h, c, att_weights = decoder_model.predict(\n",
    "                                                [target_seq] + [H,h,c])\n",
    "\n",
    "        # 결과의 원핫인코딩 형식을 인덱스로 변환\n",
    "        index = np.argmax(decoder_outputs[0, 0, :])\n",
    "        indexs.append(index)\n",
    "        \n",
    "        # 종료 검사\n",
    "        if index == END_INDEX or len(indexs) >= max_sequences:\n",
    "            break\n",
    "\n",
    "        # 목표 시퀀스를 바로 이전의 출력으로 설정\n",
    "        target_seq = np.zeros((1, 1))\n",
    "        target_seq[0, 0] = index\n",
    "        \n",
    "        # storing the attention weights to plot later on\n",
    "        attention_weights = tf.reshape(att_weights, (-1, ))\n",
    "        attention_plot[i] = attention_weights.numpy()\n",
    "        i += 1\n",
    "        \n",
    "    # 인덱스를 문장으로 변환\n",
    "    sentence = convert_index_to_text(indexs, index_to_word)\n",
    "    \n",
    "    return sentence, input_sentence, attention_plot"
   ]
  },
  {
   "cell_type": "code",
   "execution_count": 18,
   "metadata": {},
   "outputs": [],
   "source": [
    "# function for plotting the attention weights\n",
    "def plot_attention(attention, sentence, predicted_sentence):\n",
    "  fig = plt.figure(figsize=(10,10))\n",
    "  ax = fig.add_subplot(1, 1, 1)\n",
    "  ax.matshow(attention, cmap='viridis')\n",
    "\n",
    "  fontdict = {'fontsize': 20}\n",
    "\n",
    "  ax.set_xticklabels([''] + sentence, fontdict=fontdict, rotation=90, fontproperties=fontprop)\n",
    "  ax.set_yticklabels([''] + predicted_sentence, fontdict=fontdict, fontproperties=fontprop)\n",
    "\n",
    "  ax.xaxis.set_major_locator(ticker.MultipleLocator(1))\n",
    "  ax.yaxis.set_major_locator(ticker.MultipleLocator(1))\n",
    "\n",
    "  plt.show()"
   ]
  },
  {
   "cell_type": "code",
   "execution_count": 19,
   "metadata": {},
   "outputs": [],
   "source": [
    "def translate(sentence):\n",
    "  result, sentence, attention_plot = evaluate(sentence)\n",
    "\n",
    "  print('Input: %s' % (sentence))\n",
    "  print('Predicted translation: {}'.format(result))\n",
    "  result = result.strip()\n",
    "  attention_plot = attention_plot[:len(result.split(' ')), :len(sentence.split(' '))]\n",
    "  plot_attention(attention_plot, sentence.split(' '), result.split(' '))"
   ]
  },
  {
   "cell_type": "code",
   "execution_count": 66,
   "metadata": {
    "scrolled": true
   },
   "outputs": [
    {
     "name": "stdout",
     "output_type": "stream",
     "text": [
      "['슬슬', '배고파']\n",
      "Input: 슬슬 배고파\n",
      "Predicted translation: 간식 이 라도 챙겨 드세요 \n"
     ]
    },
    {
     "data": {
      "image/png": "[encoded data removed]",
      "text/plain": [
       "<Figure size 720x720 with 1 Axes>"
      ]
     },
     "metadata": {
      "needs_background": "light"
     },
     "output_type": "display_data"
    },
    {
     "name": "stdout",
     "output_type": "stream",
     "text": [
      "['너무', '배고프', '다']\n",
      "Input: 너무 배고프 다\n",
      "Predicted translation: 간식 이 라도 챙겨 드세요 \n"
     ]
    },
    {
     "data": {
      "image/png": "[encoded data removed]",
      "text/plain": [
       "<Figure size 720x720 with 1 Axes>"
      ]
     },
     "metadata": {
      "needs_background": "light"
     },
     "output_type": "display_data"
    },
    {
     "name": "stdout",
     "output_type": "stream",
     "text": [
      "['배고프', '다']\n",
      "Input: 배고프 다\n",
      "Predicted translation: 간식 을 드 시 는 건 어떨까 요 ? \n"
     ]
    },
    {
     "data": {
      "image/png": "[encoded data removed]",
      "text/plain": [
       "<Figure size 720x720 with 1 Axes>"
      ]
     },
     "metadata": {
      "needs_background": "light"
     },
     "output_type": "display_data"
    },
    {
     "name": "stdout",
     "output_type": "stream",
     "text": [
      "['벌써', '배고파']\n",
      "Input: 벌써 배고파\n",
      "Predicted translation: 간식 이 라도 챙겨 드세요 \n"
     ]
    },
    {
     "data": {
      "image/png": "[encoded data removed]",
      "text/plain": [
       "<Figure size 720x720 with 1 Axes>"
      ]
     },
     "metadata": {
      "needs_background": "light"
     },
     "output_type": "display_data"
    },
    {
     "name": "stdout",
     "output_type": "stream",
     "text": [
      "['배고파']\n",
      "Input: 배고파\n",
      "Predicted translation: 뭐 좀 챙겨 드세요 \n"
     ]
    },
    {
     "data": {
      "image/png": "[encoded data removed]",
      "text/plain": [
       "<Figure size 720x720 with 1 Axes>"
      ]
     },
     "metadata": {
      "needs_background": "light"
     },
     "output_type": "display_data"
    },
    {
     "name": "stdout",
     "output_type": "stream",
     "text": [
      "['안녕']\n",
      "Input: 안녕\n",
      "Predicted translation: 안녕 하 세요 \n"
     ]
    },
    {
     "data": {
      "image/png": "[encoded data removed]",
      "text/plain": [
       "<Figure size 720x720 with 1 Axes>"
      ]
     },
     "metadata": {
      "needs_background": "light"
     },
     "output_type": "display_data"
    },
    {
     "name": "stdout",
     "output_type": "stream",
     "text": [
      "['넌', '누구', '니', '?']\n",
      "Input: 넌 누구 니 ?\n",
      "Predicted translation: 저 는 위 로 봇 입니다 \n"
     ]
    },
    {
     "data": {
      "image/png": "[encoded data removed]",
      "text/plain": [
       "<Figure size 720x720 with 1 Axes>"
      ]
     },
     "metadata": {
      "needs_background": "light"
     },
     "output_type": "display_data"
    },
    {
     "name": "stdout",
     "output_type": "stream",
     "text": [
      "['피곤', '하', '다']\n",
      "Input: 피곤 하 다\n",
      "Predicted translation: 휴식 을 갖 는 건 어떠세요 ? \n"
     ]
    },
    {
     "data": {
      "image/png": "[encoded data removed]",
      "text/plain": [
       "<Figure size 720x720 with 1 Axes>"
      ]
     },
     "metadata": {
      "needs_background": "light"
     },
     "output_type": "display_data"
    },
    {
     "name": "stdout",
     "output_type": "stream",
     "text": [
      "['심심', '하', '다']\n",
      "Input: 심심 하 다\n",
      "Predicted translation: 저 랑 놀 아요 \n"
     ]
    },
    {
     "data": {
      "image/png": "[encoded data removed]",
      "text/plain": [
       "<Figure size 720x720 with 1 Axes>"
      ]
     },
     "metadata": {
      "needs_background": "light"
     },
     "output_type": "display_data"
    },
    {
     "name": "stdout",
     "output_type": "stream",
     "text": [
      "['뭐', '먹', '을까', '?']\n",
      "Input: 뭐 먹 을까 ?\n",
      "Predicted translation: 오늘 은 짜장면 어떠세요 ? \n"
     ]
    },
    {
     "data": {
      "image/png": "[encoded data removed]",
      "text/plain": [
       "<Figure size 720x720 with 1 Axes>"
      ]
     },
     "metadata": {
      "needs_background": "light"
     },
     "output_type": "display_data"
    },
    {
     "name": "stdout",
     "output_type": "stream",
     "text": [
      "['점심', '뭐', '먹', '지', '?']\n",
      "Input: 점심 뭐 먹 지 ?\n",
      "Predicted translation: 오늘 은 짜장면 어떠세요 ? \n"
     ]
    },
    {
     "data": {
      "image/png": "[encoded data removed]",
      "text/plain": [
       "<Figure size 720x720 with 1 Axes>"
      ]
     },
     "metadata": {
      "needs_background": "light"
     },
     "output_type": "display_data"
    },
    {
     "name": "stdout",
     "output_type": "stream",
     "text": [
      "['퇴근', '이', '다']\n",
      "Input: 퇴근 이 다\n",
      "Predicted translation: 오늘 하루 도 수고 하 셨 어요 \n"
     ]
    },
    {
     "data": {
      "image/png": "[encoded data removed]",
      "text/plain": [
       "<Figure size 720x720 with 1 Axes>"
      ]
     },
     "metadata": {
      "needs_background": "light"
     },
     "output_type": "display_data"
    }
   ],
   "source": [
    "# attention 예시입니다. 핵심 단어가 있는 열에 색상이 밝은 것을 볼 수 있습니다.\n",
    "\n",
    "li = ['슬슬 배고파','너무 배고프다', '배고프다','벌써 배고파','배고파','안녕','넌 누구니?','피곤하다','심심하다','뭐 먹을까?','점심 뭐 먹지?','퇴근이다']\n",
    "\n",
    "for s in li:\n",
    "    translate(s)"
   ]
  },
  {
   "cell_type": "code",
   "execution_count": null,
   "metadata": {},
   "outputs": [],
   "source": []
  },
  {
   "cell_type": "markdown",
   "metadata": {},
   "source": [
    "# 참고2. Encoder 모델의 context 벡터 시각화\n",
    "google의 Embedding Projector를 사용하여 context벡터를 시각화할 수 있습니다.\n",
    "\n",
    "(https://projector.tensorflow.org/)"
   ]
  },
  {
   "cell_type": "code",
   "execution_count": 20,
   "metadata": {},
   "outputs": [],
   "source": [
    "# 인코더 모델을 통해 context 벡터 추출하기\n",
    "\n",
    "def encoderOutput(x):\n",
    "    x = make_predict_input(x)\n",
    "    H, h, c = encoder_model(x)\n",
    "    encoder_output= H.numpy()\n",
    "    return encoder_output[0]"
   ]
  },
  {
   "cell_type": "code",
   "execution_count": 21,
   "metadata": {},
   "outputs": [],
   "source": [
    "# 몇가지 예제 질문\n",
    "\n",
    "li = ['안녕','넌 누구니?','피곤하다','뭐 먹을까?','점심 뭐 먹지?','퇴근이다','피곤해','피곤하다','오늘따라 더 피곤하다','오늘 일이 너무 많아서 피곤하다','어제 잠을 많이 못 잤더니 피곤하다','배부르다','엄마한테 혼나서 심란하다','어제 친구랑 싸웠는데 화해를 못해서 심란해',\n",
    "      '어제 공부를 열심히 했더니 피곤하다','내가 심란해하는 모습을 보는건 나도 싫어','부모님이 힘들어허시는 걸 보니 나도 심란해','심란한 기분을 떨쳐버리고 싶어','어제부터 내가 너무 우울해서 부모님의 기분도 심란해','하루종일 집에 있었더니 마음이 심란해진 것 같아','요즘 재미있는 일이 많아서 행복해',\n",
    "      '난 행복한 사람이야','행복해하는 사람들을 보면 기분이 우울해져','행복해지려면 뭘 해야해?','요즘따라 왜이리 우울하지?','우울한 감정을 벗어나려면 어떻게 해야해?','사람들이 나를 싫어하는 것 같아서 우울해']"
   ]
  },
  {
   "cell_type": "code",
   "execution_count": 22,
   "metadata": {},
   "outputs": [],
   "source": [
    "vector=[]  # context벡터를 저장할 리스트\n",
    "\n",
    "for x in li:\n",
    "    vector.append(encoderOutput(x).reshape(-1,))"
   ]
  },
  {
   "cell_type": "code",
   "execution_count": 24,
   "metadata": {},
   "outputs": [
    {
     "name": "stdout",
     "output_type": "stream",
     "text": [
      "(27, 2560)\n"
     ]
    }
   ],
   "source": [
    "# 문장에 대한 context vector를 텍스트파일로 저장하기\n",
    "\n",
    "vector = np.array(vector)\n",
    "np.savetxt( 'vector.txt', vector, fmt='%f', delimiter='\\t')\n",
    "print(vector.shape)"
   ]
  },
  {
   "cell_type": "code",
   "execution_count": 25,
   "metadata": {},
   "outputs": [],
   "source": [
    "def write_txt(li, fname, sep):\n",
    "    file = open(fname,'w')\n",
    "    vstr = ''\n",
    "    for a in li:\n",
    "        vstr = vstr + str(a) + sep\n",
    "    vstr = vstr.rstrip(sep)\n",
    "    file.writelines(vstr)\n",
    "    file.close()\n",
    "    print('파일저장완료')"
   ]
  },
  {
   "cell_type": "code",
   "execution_count": 189,
   "metadata": {},
   "outputs": [],
   "source": [
    "def encoderOutput(x):\n",
    "    x = make_predict_input(x)\n",
    "    H, h, c = encoder_model(x)\n",
    "    encoder_output= H.numpy()\n",
    "    return encoder_output[0]"
   ]
  },
  {
   "cell_type": "code",
   "execution_count": 455,
   "metadata": {},
   "outputs": [],
   "source": [
    "# '슬슬 배고파','너무 배고프다', '배고프다','벌써 배고파' > 간식 이 라도 챙겨 드세요 \n",
    "# 점심 뭐먹지? 뭐 먹을까? > '오늘 은 짜장면 어떠세요 ? '\n",
    "li = ['안녕','넌 누구니?','피곤하다','뭐 먹을까?','점심 뭐 먹지?','퇴근이다','피곤해','피곤하다','오늘따라 더 피곤하다','오늘 일이 너무 많아서 피곤하다','어제 잠을 많이 못 잤더니 피곤하다','배부르다','엄마한테 혼나서 심란하다','어제 친구랑 싸웠는데 화해를 못해서 심란해',\n",
    "      '어제 공부를 열심히 했더니 피곤하다','내가 심란해하는 모습을 보는건 나도 싫어','부모님이 힘들어허시는 걸 보니 나도 심란해','심란한 기분을 떨쳐버리고 싶어','어제부터 내가 너무 우울해서 부모님의 기분도 심란해','하루종일 집에 있었더니 마음이 심란해진 것 같아','요즘 재미있는 일이 많아서 행복해',\n",
    "      '난 행복한 사람이야','행복해하는 사람들을 보면 기분이 우울해져','행복해지려면 뭘 해야해?','요즘따라 왜이리 우울하지?','우울한 감정을 벗어나려면 어떻게 해야해?','사람들이 나를 싫어하는 것 같아서 우울해']"
   ]
  },
  {
   "cell_type": "code",
   "execution_count": 456,
   "metadata": {},
   "outputs": [],
   "source": [
    "vector=[]\n",
    "for x in li:\n",
    "    vector.append(encoderOutput(x).reshape(-1,))"
   ]
  },
  {
   "cell_type": "code",
   "execution_count": 457,
   "metadata": {},
   "outputs": [
    {
     "data": {
      "text/plain": [
       "(27, 3840)"
      ]
     },
     "execution_count": 457,
     "metadata": {},
     "output_type": "execute_result"
    }
   ],
   "source": [
    "vector = np.array(vector)\n",
    "np.savetxt( 'vector.txt', vector, fmt='%f', delimiter='\\t')\n",
    "vector.shape"
   ]
  },
  {
   "cell_type": "code",
   "execution_count": 27,
   "metadata": {},
   "outputs": [
    {
     "name": "stdout",
     "output_type": "stream",
     "text": [
      "파일저장완료\n"
     ]
    }
   ],
   "source": [
    "# 문장을 텍스트파일로 저장하기\n",
    "write_txt(li, 'meta.txt', sep='\\n')"
   ]
  },
  {
   "cell_type": "code",
   "execution_count": null,
   "metadata": {},
   "outputs": [],
   "source": []
  },
  {
   "cell_type": "code",
   "execution_count": null,
   "metadata": {},
   "outputs": [],
   "source": []
  },
  {
   "cell_type": "markdown",
   "metadata": {},
   "source": [
    "# 참고3. 모델 평가하기 "
   ]
  },
  {
   "cell_type": "markdown",
   "metadata": {},
   "source": [
    "### 1) 테스트 셋"
   ]
  },
  {
   "cell_type": "code",
   "execution_count": 150,
   "metadata": {},
   "outputs": [
    {
     "data": {
      "text/html": [
       "<div>\n",
       "<style scoped>\n",
       "    .dataframe tbody tr th:only-of-type {\n",
       "        vertical-align: middle;\n",
       "    }\n",
       "\n",
       "    .dataframe tbody tr th {\n",
       "        vertical-align: top;\n",
       "    }\n",
       "\n",
       "    .dataframe thead th {\n",
       "        text-align: right;\n",
       "    }\n",
       "</style>\n",
       "<table border=\"1\" class=\"dataframe\">\n",
       "  <thead>\n",
       "    <tr style=\"text-align: right;\">\n",
       "      <th></th>\n",
       "      <th>Q</th>\n",
       "      <th>A</th>\n",
       "      <th>data</th>\n",
       "    </tr>\n",
       "  </thead>\n",
       "  <tbody>\n",
       "    <tr>\n",
       "      <th>0</th>\n",
       "      <td>12시 땡!</td>\n",
       "      <td>하루가 또 가네요.</td>\n",
       "      <td>2</td>\n",
       "    </tr>\n",
       "    <tr>\n",
       "      <th>1</th>\n",
       "      <td>1지망 학교 떨어졌어</td>\n",
       "      <td>위로해 드립니다.</td>\n",
       "      <td>2</td>\n",
       "    </tr>\n",
       "    <tr>\n",
       "      <th>2</th>\n",
       "      <td>3박4일 놀러가고 싶다</td>\n",
       "      <td>여행은 언제나 좋죠.</td>\n",
       "      <td>2</td>\n",
       "    </tr>\n",
       "    <tr>\n",
       "      <th>3</th>\n",
       "      <td>3박4일 정도 놀러가고 싶다</td>\n",
       "      <td>여행은 언제나 좋죠.</td>\n",
       "      <td>2</td>\n",
       "    </tr>\n",
       "    <tr>\n",
       "      <th>4</th>\n",
       "      <td>PPL 심하네</td>\n",
       "      <td>눈살이 찌푸려지죠.</td>\n",
       "      <td>2</td>\n",
       "    </tr>\n",
       "  </tbody>\n",
       "</table>\n",
       "</div>"
      ],
      "text/plain": [
       "                 Q            A  data\n",
       "0           12시 땡!   하루가 또 가네요.     2\n",
       "1      1지망 학교 떨어졌어    위로해 드립니다.     2\n",
       "2     3박4일 놀러가고 싶다  여행은 언제나 좋죠.     2\n",
       "3  3박4일 정도 놀러가고 싶다  여행은 언제나 좋죠.     2\n",
       "4          PPL 심하네   눈살이 찌푸려지죠.     2"
      ]
     },
     "execution_count": 150,
     "metadata": {},
     "output_type": "execute_result"
    }
   ],
   "source": [
    "import pandas as pd\n",
    "df = pd.read_csv('./all_data.csv')\n",
    "df.head()"
   ]
  },
  {
   "cell_type": "code",
   "execution_count": 151,
   "metadata": {},
   "outputs": [
    {
     "data": {
      "text/plain": [
       "array(['12시 땡!', '1지망 학교 떨어졌어', '3박4일 놀러가고 싶다', '3박4일 정도 놀러가고 싶다',\n",
       "       'PPL 심하네', 'SD카드 망가졌어', 'SD카드 안돼', 'SNS 맞팔 왜 안하지ㅠㅠ',\n",
       "       'SNS 시간낭비인 거 아는데 매일 하는 중', 'SNS 시간낭비인데 자꾸 보게됨'], dtype=object)"
      ]
     },
     "execution_count": 151,
     "metadata": {},
     "output_type": "execute_result"
    }
   ],
   "source": [
    "# 테스트 셋 x,y 나누기\n",
    "test_df=df[:30]\n",
    "test_X = test_df['Q'].values\n",
    "test_y = test_df['A'].values\n",
    "test_X[:10]"
   ]
  },
  {
   "cell_type": "code",
   "execution_count": 152,
   "metadata": {
    "scrolled": true
   },
   "outputs": [
    {
     "data": {
      "text/plain": [
       "array([[ 14,  46,  36,  46, 124,   0,   0,   0,   0,   0,   0,   0,   0,\n",
       "          0,   0,   0,   0,   0,   0,   0],\n",
       "       [ 97,  78, 121,   0,   0,   0,   0,   0,   0,   0,   0,   0,   0,\n",
       "          0,   0,   0,   0,   0,   0,   0],\n",
       "       [  7,  67,  28,  61, 105,   0,   0,   0,   0,   0,   0,   0,   0,\n",
       "          0,   0,   0,   0,   0,   0,   0],\n",
       "       [  7,  67,  28,  61, 105,   0,   0,   0,   0,   0,   0,   0,   0,\n",
       "          0,   0,   0,   0,   0,   0,   0],\n",
       "       [106,  70, 111,  59, 105,   0,   0,   0,   0,   0,   0,   0,   0,\n",
       "          0,   0,   0,   0,   0,   0,   0],\n",
       "       [ 71,  18,  60, 127,  48,  92,  23,   0,   0,   0,   0,   0,   0,\n",
       "          0,   0,   0,   0,   0,   0,   0],\n",
       "       [ 71,  18,  60, 127,  48,  92,  23,   0,   0,   0,   0,   0,   0,\n",
       "          0,   0,   0,   0,   0,   0,   0],\n",
       "       [ 53,  39,  20,  21,  55,  40,  19,  21,  29,   0,   0,   0,   0,\n",
       "          0,   0,   0,   0,   0,   0,   0],\n",
       "       [ 49,  55,  35,  20,  78,  75,  65,   0,   0,   0,   0,   0,   0,\n",
       "          0,   0,   0,   0,   0,   0,   0],\n",
       "       [ 49,  55,  35,  20,  78,  75,  65,   0,   0,   0,   0,   0,   0,\n",
       "          0,   0,   0,   0,   0,   0,   0],\n",
       "       [ 89,  17, 127,   9,  57,   0,   0,   0,   0,   0,   0,   0,   0,\n",
       "          0,   0,   0,   0,   0,   0,   0],\n",
       "       [ 80,  42,  19,  96,  31,  32,   0,   0,   0,   0,   0,   0,   0,\n",
       "          0,   0,   0,   0,   0,   0,   0],\n",
       "       [ 80,  42,  19,  96,  31,  32,   0,   0,   0,   0,   0,   0,   0,\n",
       "          0,   0,   0,   0,   0,   0,   0],\n",
       "       [ 12, 123,  68,  65,   0,   0,   0,   0,   0,   0,   0,   0,   0,\n",
       "          0,   0,   0,   0,   0,   0,   0],\n",
       "       [118,  67,  71,  16,  31,  32,   0,   0,   0,   0,   0,   0,   0,\n",
       "          0,   0,   0,   0,   0,   0,   0],\n",
       "       [130,  55,  87,   4,  65,   0,   0,   0,   0,   0,   0,   0,   0,\n",
       "          0,   0,   0,   0,   0,   0,   0],\n",
       "       [ 44, 126,  20,  64,  76,  17,  65,   0,   0,   0,   0,   0,   0,\n",
       "          0,   0,   0,   0,   0,   0,   0],\n",
       "       [ 79,  83,  41,  77,  72,  51,  20,  30,  65,   0,   0,   0,   0,\n",
       "          0,   0,   0,   0,   0,   0,   0],\n",
       "       [ 79,  83,  41,  77,  72,  51,  20,  30,  65,   0,   0,   0,   0,\n",
       "          0,   0,   0,   0,   0,   0,   0],\n",
       "       [ 33, 142,  41, 127,  95, 107, 136,   0,   0,   0,   0,   0,   0,\n",
       "          0,   0,   0,   0,   0,   0,   0],\n",
       "       [  3,  17,  48,   3,   0,   0,   0,   0,   0,   0,   0,   0,   0,\n",
       "          0,   0,   0,   0,   0,   0,   0],\n",
       "       [ 33, 142,  41, 127,  95, 107, 136,   0,   0,   0,   0,   0,   0,\n",
       "          0,   0,   0,   0,   0,   0,   0],\n",
       "       [  3,   3, 104,  49,  67,   3,  70,   3,   3,   3,   3,  55,  24,\n",
       "         20,   3,  17,   3,  49,  55,  22],\n",
       "       [  3,   3,  70,   3,  92,  41,   3, 127,   3,   3,   3,   0,   0,\n",
       "          0,   0,   0,   0,   0,   0,   0],\n",
       "       [  3,   3,  70,   3,  92,  41,   3, 127,   3,   3,   3,   0,   0,\n",
       "          0,   0,   0,   0,   0,   0,   0],\n",
       "       [  3,   3,  70,   3,  92,  41,   3, 127,   3,   3,   3,   0,   0,\n",
       "          0,   0,   0,   0,   0,   0,   0],\n",
       "       [  3, 123,   3,  15,   3,  42,  55,   3,   3,   3,   3,   3,  78,\n",
       "          4, 127,  42,  55,   3,   3,   3],\n",
       "       [  3, 123,   3,  15,   3,  42,  55,   3,   3,   3,   3,   3,  78,\n",
       "          4, 127,  42,  55,   3,   3,   3],\n",
       "       [ 95,   3,   3,  46,   3,   3, 124,   0,   0,   0,   0,   0,   0,\n",
       "          0,   0,   0,   0,   0,   0,   0],\n",
       "       [  3,   3,   0,   0,   0,   0,   0,   0,   0,   0,   0,   0,   0,\n",
       "          0,   0,   0,   0,   0,   0,   0]])"
      ]
     },
     "execution_count": 152,
     "metadata": {},
     "output_type": "execute_result"
    }
   ],
   "source": [
    "x=pos_tag_korea(test_X)   # 전처리\n",
    "x=convert_text_to_index(x,word_to_index,ENCODER_INPUT)  #index, padding \n",
    "\n",
    "y=pos_tag_korea(test_y)   # 전처리\n",
    "y=convert_text_to_index(y,word_to_index,ENCODER_INPUT)  #index, padding \n",
    "y"
   ]
  },
  {
   "cell_type": "markdown",
   "metadata": {},
   "source": [
    "### 2) 워드 임베딩"
   ]
  },
  {
   "cell_type": "code",
   "execution_count": 153,
   "metadata": {},
   "outputs": [],
   "source": [
    "from tensorflow.keras.layers import Dense, Embedding\n",
    "from tensorflow.keras.models import Sequential\n",
    "\n",
    "vocab_len= len(word_to_index)\n",
    "embedding_dim = 200\n",
    "\n",
    "# 임베딩 모델 \n",
    "emb_model = Sequential()\n",
    "emb_model.add(Embedding(vocab_len, embedding_dim, input_length=20 , name='de-embedding'))\n",
    "\n",
    "# 가중치 로드하기\n",
    "emb_model.load_weights('attention_decoder_model_weights.h5', by_name=True)"
   ]
  },
  {
   "cell_type": "code",
   "execution_count": 154,
   "metadata": {
    "scrolled": true
   },
   "outputs": [
    {
     "name": "stdout",
     "output_type": "stream",
     "text": [
      "(30, 20, 200)\n"
     ]
    },
    {
     "data": {
      "text/plain": [
       "array([[[ 0.01448477,  0.04890775,  0.0056952 , ...,  0.03835274,\n",
       "          0.03368158,  0.02174748],\n",
       "        [-0.03639406,  0.02725026,  0.03120701, ..., -0.02489701,\n",
       "         -0.03537275,  0.01355806],\n",
       "        [ 0.0290329 ,  0.04104965, -0.0212679 , ..., -0.01988973,\n",
       "         -0.04826305, -0.03286027],\n",
       "        ...,\n",
       "        [-0.02423068, -0.03456415,  0.02420667, ..., -0.02109983,\n",
       "          0.01890719, -0.03975426],\n",
       "        [-0.02423068, -0.03456415,  0.02420667, ..., -0.02109983,\n",
       "          0.01890719, -0.03975426],\n",
       "        [-0.02423068, -0.03456415,  0.02420667, ..., -0.02109983,\n",
       "          0.01890719, -0.03975426]],\n",
       "\n",
       "       [[-0.01037131,  0.04458893,  0.0330969 , ...,  0.0138065 ,\n",
       "         -0.0499642 ,  0.00494623],\n",
       "        [-0.02453363, -0.02332468, -0.00627757, ..., -0.01942611,\n",
       "         -0.02736604,  0.00156481],\n",
       "        [-0.00642211, -0.01102992, -0.01741806, ...,  0.02789868,\n",
       "          0.02045396, -0.0083345 ],\n",
       "        ...,\n",
       "        [-0.02423068, -0.03456415,  0.02420667, ..., -0.02109983,\n",
       "          0.01890719, -0.03975426],\n",
       "        [-0.02423068, -0.03456415,  0.02420667, ..., -0.02109983,\n",
       "          0.01890719, -0.03975426],\n",
       "        [-0.02423068, -0.03456415,  0.02420667, ..., -0.02109983,\n",
       "          0.01890719, -0.03975426]],\n",
       "\n",
       "       [[ 0.00701202, -0.00788637,  0.03700521, ...,  0.00212581,\n",
       "         -0.0032442 , -0.0379684 ],\n",
       "        [-0.03537831, -0.04736478,  0.04207745, ...,  0.01740858,\n",
       "         -0.02654803, -0.02608702],\n",
       "        [-0.00149006, -0.04734724, -0.04626067, ...,  0.04338645,\n",
       "          0.01518296,  0.00658655],\n",
       "        ...,\n",
       "        [-0.02423068, -0.03456415,  0.02420667, ..., -0.02109983,\n",
       "          0.01890719, -0.03975426],\n",
       "        [-0.02423068, -0.03456415,  0.02420667, ..., -0.02109983,\n",
       "          0.01890719, -0.03975426],\n",
       "        [-0.02423068, -0.03456415,  0.02420667, ..., -0.02109983,\n",
       "          0.01890719, -0.03975426]],\n",
       "\n",
       "       ...,\n",
       "\n",
       "       [[-0.00041871, -0.00464325, -0.00031001, ..., -0.0490827 ,\n",
       "          0.0420518 ,  0.04852655],\n",
       "        [-0.01544749,  0.02138669,  0.00580777, ..., -0.03647299,\n",
       "          0.03848305,  0.00939411],\n",
       "        [-0.00041871, -0.00464325, -0.00031001, ..., -0.0490827 ,\n",
       "          0.0420518 ,  0.04852655],\n",
       "        ...,\n",
       "        [-0.00041871, -0.00464325, -0.00031001, ..., -0.0490827 ,\n",
       "          0.0420518 ,  0.04852655],\n",
       "        [-0.00041871, -0.00464325, -0.00031001, ..., -0.0490827 ,\n",
       "          0.0420518 ,  0.04852655],\n",
       "        [-0.00041871, -0.00464325, -0.00031001, ..., -0.0490827 ,\n",
       "          0.0420518 ,  0.04852655]],\n",
       "\n",
       "       [[ 0.03646828,  0.02456781, -0.01975228, ..., -0.03832012,\n",
       "          0.00438987,  0.04946191],\n",
       "        [-0.00041871, -0.00464325, -0.00031001, ..., -0.0490827 ,\n",
       "          0.0420518 ,  0.04852655],\n",
       "        [-0.00041871, -0.00464325, -0.00031001, ..., -0.0490827 ,\n",
       "          0.0420518 ,  0.04852655],\n",
       "        ...,\n",
       "        [-0.02423068, -0.03456415,  0.02420667, ..., -0.02109983,\n",
       "          0.01890719, -0.03975426],\n",
       "        [-0.02423068, -0.03456415,  0.02420667, ..., -0.02109983,\n",
       "          0.01890719, -0.03975426],\n",
       "        [-0.02423068, -0.03456415,  0.02420667, ..., -0.02109983,\n",
       "          0.01890719, -0.03975426]],\n",
       "\n",
       "       [[-0.00041871, -0.00464325, -0.00031001, ..., -0.0490827 ,\n",
       "          0.0420518 ,  0.04852655],\n",
       "        [-0.00041871, -0.00464325, -0.00031001, ..., -0.0490827 ,\n",
       "          0.0420518 ,  0.04852655],\n",
       "        [-0.02423068, -0.03456415,  0.02420667, ..., -0.02109983,\n",
       "          0.01890719, -0.03975426],\n",
       "        ...,\n",
       "        [-0.02423068, -0.03456415,  0.02420667, ..., -0.02109983,\n",
       "          0.01890719, -0.03975426],\n",
       "        [-0.02423068, -0.03456415,  0.02420667, ..., -0.02109983,\n",
       "          0.01890719, -0.03975426],\n",
       "        [-0.02423068, -0.03456415,  0.02420667, ..., -0.02109983,\n",
       "          0.01890719, -0.03975426]]], dtype=float32)"
      ]
     },
     "execution_count": 154,
     "metadata": {},
     "output_type": "execute_result"
    }
   ],
   "source": [
    "# y(정답데이터) 임베딩하기\n",
    "y_emb = emb_model.predict(y)\n",
    "print(y_emb.shape)\n",
    "y_emb"
   ]
  },
  {
   "cell_type": "markdown",
   "metadata": {},
   "source": [
    "### 3) 예측하기"
   ]
  },
  {
   "cell_type": "code",
   "execution_count": 155,
   "metadata": {},
   "outputs": [],
   "source": [
    "# test셋 예측값을 (단어 임베딩된 상태의) 리스트로 출력\n",
    "\n",
    "def predict(x_set):\n",
    "    y_pred = []\n",
    "#     # 전처리\n",
    "#     x_set=convert_text_to_index(x_set,word_to_index)\n",
    "    # 예측하기\n",
    "    for x in x_set:\n",
    "        x = make_predict_input(x)\n",
    "        pred_text = generate_text(x)\n",
    "        y_pred.append(pred_text)        \n",
    "    y_pred = convert_text_to_index(y_pred,word_to_index,ENCODER_INPUT)\n",
    "    # 임베딩:(100,20) 인덱스 형태> (100,20,100)\n",
    "    y_pred = emb_model.predict(y_pred)\n",
    "    return y_pred"
   ]
  },
  {
   "cell_type": "code",
   "execution_count": 156,
   "metadata": {
    "scrolled": true
   },
   "outputs": [
    {
     "data": {
      "text/plain": [
       "(30, 20, 200)"
      ]
     },
     "execution_count": 156,
     "metadata": {},
     "output_type": "execute_result"
    }
   ],
   "source": [
    "y_pred_emb = predict(test_X)\n",
    "y_pred_emb.shape"
   ]
  },
  {
   "cell_type": "markdown",
   "metadata": {},
   "source": [
    "### 4) MSE"
   ]
  },
  {
   "cell_type": "code",
   "execution_count": 157,
   "metadata": {},
   "outputs": [],
   "source": [
    "from sklearn.metrics import mean_squared_error\n",
    "\n",
    "# 단어 임베딩 상태로 들어온다면\n",
    "def model_mse(y, y_pred):\n",
    "    # 3차원 > 2차원으로\n",
    "    y = y.reshape(y.shape[0],-1)\n",
    "    y_pred = y_pred.reshape(y_pred.shape[0],-1)\n",
    "    # (y, y_pred) 각 2차원인 벡터 임베딩된 시퀀스가 들어감.\n",
    "    return mean_squared_error(y, y_pred)"
   ]
  },
  {
   "cell_type": "code",
   "execution_count": 158,
   "metadata": {},
   "outputs": [
    {
     "data": {
      "text/plain": [
       "0.00033724215"
      ]
     },
     "execution_count": 158,
     "metadata": {},
     "output_type": "execute_result"
    }
   ],
   "source": [
    "# mse 구하기\n",
    "model_mse(y_emb,y_pred_emb)"
   ]
  },
  {
   "cell_type": "markdown",
   "metadata": {},
   "source": [
    "### 5) MAPE"
   ]
  },
  {
   "cell_type": "code",
   "execution_count": 159,
   "metadata": {},
   "outputs": [],
   "source": [
    "def MAPE(y_true, y_pred): \n",
    "    return np.mean(np.abs((y_true - y_pred) / y_true)) * 100"
   ]
  },
  {
   "cell_type": "code",
   "execution_count": 160,
   "metadata": {
    "scrolled": true
   },
   "outputs": [
    {
     "data": {
      "text/plain": [
       "84.30887460708618"
      ]
     },
     "execution_count": 160,
     "metadata": {},
     "output_type": "execute_result"
    }
   ],
   "source": [
    "MAPE(y_emb,y_pred_emb)"
   ]
  },
  {
   "cell_type": "code",
   "execution_count": null,
   "metadata": {},
   "outputs": [],
   "source": []
  }
 ],
 "metadata": {
  "kernelspec": {
   "display_name": "Python [conda env:tf1]",
   "language": "python",
   "name": "conda-env-tf1-py"
  },
  "language_info": {
   "codemirror_mode": {
    "name": "ipython",
    "version": 3
   },
   "file_extension": ".py",
   "mimetype": "text/x-python",
   "name": "python",
   "nbconvert_exporter": "python",
   "pygments_lexer": "ipython3",
   "version": "3.7.7"
  }
 },
 "nbformat": 4,
 "nbformat_minor": 4
}
